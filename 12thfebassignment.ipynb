{
 "cells": [
  {
   "cell_type": "code",
   "execution_count": 1,
   "id": "03e801cb-045a-4889-a019-66216a9f0b86",
   "metadata": {},
   "outputs": [
    {
     "ename": "SyntaxError",
     "evalue": "invalid decimal literal (950179842.py, line 1)",
     "output_type": "error",
     "traceback": [
      "\u001b[0;36m  Cell \u001b[0;32mIn[1], line 1\u001b[0;36m\u001b[0m\n\u001b[0;31m    1.Ans\u001b[0m\n\u001b[0m     ^\u001b[0m\n\u001b[0;31mSyntaxError\u001b[0m\u001b[0;31m:\u001b[0m invalid decimal literal\n"
     ]
    }
   ],
   "source": [
    "# 1.Ans\n",
    "# An exception is an error that occurs due to some unexpected circumtances in a program like Zero Divison Error,it disrupts how the code runs normally.\n",
    "# \"Syntax error\" Occurs when there is an error in grammar of programming language that is your code is not written according to the syntax of the programming language you are using.\n"
   ]
  },
  {
   "cell_type": "code",
   "execution_count": 6,
   "id": "ed33ad85-e307-4377-ab3e-375a5d3f93f9",
   "metadata": {},
   "outputs": [],
   "source": [
    "# 2.Ans\n",
    "# When an exception is not handeled it creates problem in execution of code.It gives errors when an Exception is encountered and prevents code from further execution.\n",
    "\n",
    "# For Example if division by Zero error doesn't encounterd it can create problem in a calculator program."
   ]
  },
  {
   "cell_type": "code",
   "execution_count": 13,
   "id": "c7812640-d661-4af3-a0f8-f67464a93a65",
   "metadata": {},
   "outputs": [
    {
     "name": "stdin",
     "output_type": "stream",
     "text": [
      "Enter the number 0\n"
     ]
    },
    {
     "name": "stdout",
     "output_type": "stream",
     "text": [
      "Zero Division Error\n"
     ]
    }
   ],
   "source": [
    "# 3.Ans\n",
    "# Try and except used to handle exceptions\n",
    "try:\n",
    "    n=int(input(\"Enter the number\"))\n",
    "    print(6/n)\n",
    "except:\n",
    "    print( \"Zero Division Error\")\n",
    "    "
   ]
  },
  {
   "cell_type": "code",
   "execution_count": 16,
   "id": "89de033e-0353-41e3-b50f-6c7b07c7daa4",
   "metadata": {},
   "outputs": [
    {
     "name": "stdin",
     "output_type": "stream",
     "text": [
      "Enter age of the person -67\n"
     ]
    },
    {
     "ename": "Exception",
     "evalue": "Age cannot be negative",
     "output_type": "error",
     "traceback": [
      "\u001b[0;31m---------------------------------------------------------------------------\u001b[0m",
      "\u001b[0;31mException\u001b[0m                                 Traceback (most recent call last)",
      "Cell \u001b[0;32mIn[16], line 7\u001b[0m\n\u001b[1;32m      5\u001b[0m age\u001b[38;5;241m=\u001b[39m\u001b[38;5;28mint\u001b[39m(\u001b[38;5;28minput\u001b[39m(\u001b[38;5;124m\"\u001b[39m\u001b[38;5;124mEnter age of the person\u001b[39m\u001b[38;5;124m\"\u001b[39m))\n\u001b[1;32m      6\u001b[0m \u001b[38;5;28;01mif\u001b[39;00m age\u001b[38;5;241m<\u001b[39m\u001b[38;5;241m0\u001b[39m:\n\u001b[0;32m----> 7\u001b[0m     \u001b[38;5;28;01mraise\u001b[39;00m \u001b[38;5;167;01mException\u001b[39;00m(\u001b[38;5;124m\"\u001b[39m\u001b[38;5;124mAge cannot be negative\u001b[39m\u001b[38;5;124m\"\u001b[39m)\n",
      "\u001b[0;31mException\u001b[0m: Age cannot be negative"
     ]
    }
   ],
   "source": [
    "# 4.Ans\n",
    "# A. If an error occurs in try block it will execute the else block of code.\n",
    "# B. It will execute no matter if there is an error in code or not.\n",
    "# C. It is used to raise exceptions as given by a user.\n",
    "age=int(input(\"Enter age of the person\"))\n",
    "if age<0:\n",
    "    raise Exception(\"Age cannot be negative\")"
   ]
  },
  {
   "cell_type": "code",
   "execution_count": 17,
   "id": "ea32c40b-ca95-4e85-b949-7d13f22990dc",
   "metadata": {},
   "outputs": [],
   "source": [
    "# 5.Ans\n",
    "# Custom exceptions are user defined exceptions in python\n",
    "# We need them to create our own exceptions that could occur in some situations.\n",
    "# For example we can create an exception that asks for password by the user but will through exception if password will contain a part of user's name"
   ]
  },
  {
   "cell_type": "code",
   "execution_count": 18,
   "id": "cf1aeb99-347e-4a7f-8858-b50223d23fe6",
   "metadata": {},
   "outputs": [],
   "source": [
    "^.Ans\n",
    "class validateage(Exception):\n",
    "    def __init__(self,msg):\n",
    "        self.msg=msg"
   ]
  },
  {
   "cell_type": "code",
   "execution_count": null,
   "id": "37312ff5-66d4-4c06-80bd-9d4e3f30fdc2",
   "metadata": {},
   "outputs": [],
   "source": []
  }
 ],
 "metadata": {
  "kernelspec": {
   "display_name": "Python 3 (ipykernel)",
   "language": "python",
   "name": "python3"
  },
  "language_info": {
   "codemirror_mode": {
    "name": "ipython",
    "version": 3
   },
   "file_extension": ".py",
   "mimetype": "text/x-python",
   "name": "python",
   "nbconvert_exporter": "python",
   "pygments_lexer": "ipython3",
   "version": "3.10.8"
  }
 },
 "nbformat": 4,
 "nbformat_minor": 5
}
